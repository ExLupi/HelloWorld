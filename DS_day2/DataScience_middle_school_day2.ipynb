{
 "cells": [
  {
   "cell_type": "markdown",
   "metadata": {},
   "source": [
    "# Data Science!   -  Day #2"
   ]
  },
  {
   "cell_type": "markdown",
   "metadata": {},
   "source": [
    "To run the code on each cell below, hit  <b>SHIFT + ENTER</b>"
   ]
  },
  {
   "cell_type": "markdown",
   "metadata": {},
   "source": [
    "## Python"
   ]
  },
  {
   "cell_type": "code",
   "execution_count": null,
   "metadata": {
    "collapsed": true
   },
   "outputs": [],
   "source": [
    "#Type 1 + 2 and then hit shift + enter"
   ]
  },
  {
   "cell_type": "code",
   "execution_count": null,
   "metadata": {
    "collapsed": true
   },
   "outputs": [],
   "source": [
    "#Print “hello”"
   ]
  },
  {
   "cell_type": "markdown",
   "metadata": {},
   "source": [
    "We already learned some operands last time. How about the one below?"
   ]
  },
  {
   "cell_type": "code",
   "execution_count": null,
   "metadata": {
    "collapsed": true
   },
   "outputs": [],
   "source": [
    "#What is going on here?\n",
    "2 ** 3"
   ]
  },
  {
   "cell_type": "code",
   "execution_count": null,
   "metadata": {
    "collapsed": false
   },
   "outputs": [],
   "source": [
    "#Do you remember what strings are?\n",
    "fruit = \"banana\"\n",
    "baked_good = \" nut bread\" #what happens if we take the space out?\n",
    "print fruit + baked_good"
   ]
  },
  {
   "cell_type": "code",
   "execution_count": null,
   "metadata": {
    "collapsed": false
   },
   "outputs": [],
   "source": [
    "#What is the output?\n",
    "fruits = ['apples', 'cherries', 'pears']\n",
    "fruits[1]"
   ]
  },
  {
   "cell_type": "code",
   "execution_count": null,
   "metadata": {
    "collapsed": false
   },
   "outputs": [],
   "source": [
    "#How about in this case?\n",
    "prices = [3.99, 6.00, 10.00, 5.25]\n",
    "prices[0]"
   ]
  },
  {
   "cell_type": "code",
   "execution_count": null,
   "metadata": {
    "collapsed": false
   },
   "outputs": [],
   "source": [
    "#Fcuntion len returns the number of elements in the sequence\n",
    "my_list = ['a', 'b', 'c', 'd']\n",
    "len(my_list)"
   ]
  },
  {
   "cell_type": "code",
   "execution_count": 6,
   "metadata": {
    "collapsed": false
   },
   "outputs": [
    {
     "name": "stdout",
     "output_type": "stream",
     "text": [
      "4\n",
      "9\n",
      "25\n",
      "49\n",
      "121\n",
      "169\n",
      "289\n",
      "361\n",
      "529\n",
      "841\n",
      "961\n"
     ]
    }
   ],
   "source": [
    "#A lot of computations involve processing a sequence\n",
    "#one element at a time\n",
    "prime_nums = [2, 3, 5, 7, 11, 13, 17, 19, 23, 29, 31]\n",
    "\n",
    "for num in prime_nums:\n",
    "    print num ** 2"
   ]
  },
  {
   "cell_type": "markdown",
   "metadata": {},
   "source": [
    "Let us create a function to do the same as above"
   ]
  },
  {
   "cell_type": "code",
   "execution_count": 26,
   "metadata": {
    "collapsed": false
   },
   "outputs": [
    {
     "data": {
      "text/plain": [
       "[0, 1, 2, 3, 4, 5, 6, 7, 8, 9, 10]"
      ]
     },
     "execution_count": 26,
     "metadata": {},
     "output_type": "execute_result"
    }
   ],
   "source": [
    "#First, what is this function doing? \n",
    "\n",
    "range(len(prime_nums))"
   ]
  },
  {
   "cell_type": "code",
   "execution_count": 21,
   "metadata": {
    "collapsed": true
   },
   "outputs": [],
   "source": [
    "def square_the_list(list1):\n",
    "    list2 = [] #this is how we declare a list \n",
    "    \n",
    "    for index in range(len(list1)):\n",
    "        list2.append(list1[index] ** 2) \n",
    "        \n",
    "    return list2"
   ]
  },
  {
   "cell_type": "code",
   "execution_count": 22,
   "metadata": {
    "collapsed": false
   },
   "outputs": [
    {
     "name": "stdout",
     "output_type": "stream",
     "text": [
      "[4, 9, 25, 49, 121, 169, 289, 361, 529, 841, 961]\n"
     ]
    }
   ],
   "source": [
    "#Do we get the same results?\n",
    "\n",
    "prime_nums = [2, 3, 5, 7, 11, 13, 17, 19, 23, 29, 31]\n",
    "print square_the_list(prime_nums)"
   ]
  },
  {
   "cell_type": "code",
   "execution_count": null,
   "metadata": {
    "collapsed": true
   },
   "outputs": [],
   "source": [
    "#How can we change the input x and y so that we have other statements?\n",
    "x = 3\n",
    "y = 4\n",
    "\n",
    "if x < y:\n",
    "    print 'Hah! x is smaller than y'\n",
    "    \n",
    "elif y > x:\n",
    "    print y*x\n",
    "    \n",
    "else:\n",
    "    print x - y"
   ]
  },
  {
   "cell_type": "markdown",
   "metadata": {},
   "source": [
    "### Conditional statements"
   ]
  },
  {
   "cell_type": "markdown",
   "metadata": {},
   "source": [
    "```python\n",
    "if x < y:\n",
    "    STATEMENTS_A\n",
    "elif x > y:\n",
    "    STATEMENTS_B\n",
    "else:\n",
    "    STATEMENTS_C\n",
    "```"
   ]
  },
  {
   "cell_type": "markdown",
   "metadata": {
    "collapsed": false
   },
   "source": [
    "![](../Images/if_flow.jpg)"
   ]
  },
  {
   "cell_type": "code",
   "execution_count": 5,
   "metadata": {
    "collapsed": false
   },
   "outputs": [
    {
     "name": "stdout",
     "output_type": "stream",
     "text": [
      "What is the weather like: 'blah'\n",
      "Have a good day, whatever the weather!\n"
     ]
    }
   ],
   "source": [
    "#What is happening to the weather today?\n",
    "\n",
    "weather = input(\"What is the weather like: \")\n",
    "\n",
    "if weather == \"raining\":\n",
    "    print(\"Take an umbrella\")\n",
    "    \n",
    "elif weather == \"cold\":\n",
    "    print(\"Take a coat\")\n",
    "    \n",
    "elif weather == \"sunny\":\n",
    "    print(\"Wear sunscreen\")\n",
    "    \n",
    "else:\n",
    "    print(\"Have a good day, whatever the weather!\")"
   ]
  },
  {
   "cell_type": "markdown",
   "metadata": {},
   "source": [
    "### Decision Trees"
   ]
  },
  {
   "cell_type": "markdown",
   "metadata": {},
   "source": [
    "What question(s) can we answer below? \n"
   ]
  },
  {
   "cell_type": "markdown",
   "metadata": {
    "collapsed": false
   },
   "source": [
    "![](../Images/decision1.jpg)"
   ]
  },
  {
   "cell_type": "markdown",
   "metadata": {},
   "source": [
    "A decision tree uses a tree structure to represent \n",
    " a number of decision paths, and an outcome for each path\n"
   ]
  },
  {
   "cell_type": "code",
   "execution_count": null,
   "metadata": {
    "collapsed": true
   },
   "outputs": [],
   "source": [
    "1) Here we have three predictors (tree nodes) \n",
    "2) How many leaves do we have?"
   ]
  },
  {
   "cell_type": "markdown",
   "metadata": {},
   "source": [
    "How can we create data similar to in our tree above?"
   ]
  },
  {
   "cell_type": "code",
   "execution_count": null,
   "metadata": {
    "collapsed": true
   },
   "outputs": [],
   "source": [
    "import pandas as pd"
   ]
  },
  {
   "cell_type": "code",
   "execution_count": 25,
   "metadata": {
    "collapsed": false
   },
   "outputs": [
    {
     "name": "stdout",
     "output_type": "stream",
     "text": [
      "Our data looks like this\n",
      "\n",
      "   sunny  has_partner  daytime went_climbing\n",
      "0      1            1        1           Yes\n",
      "1      1            1        0           Yes\n",
      "2      0            0        1            No\n",
      "3      1            0        0            No\n"
     ]
    }
   ],
   "source": [
    "# create a dataframe\n",
    "df = pd.DataFrame()\n",
    "\n",
    "df['sunny'] = [1, 1, 0, 1]\n",
    "df['has_partner'] = [1, 1, 0, 0]\n",
    "df['daytime'] = [1, 0, 1, 0]\n",
    "df['went_climbing'] = ['Yes', 'Yes', 'No', 'No']\n",
    "\n",
    "print \"Our data looks like this\\n\"\n",
    "\n",
    "print df"
   ]
  },
  {
   "cell_type": "code",
   "execution_count": null,
   "metadata": {
    "collapsed": true
   },
   "outputs": [],
   "source": []
  }
 ],
 "metadata": {
  "kernelspec": {
   "display_name": "Python 2",
   "language": "python",
   "name": "python2"
  },
  "language_info": {
   "codemirror_mode": {
    "name": "ipython",
    "version": 2
   },
   "file_extension": ".py",
   "mimetype": "text/x-python",
   "name": "python",
   "nbconvert_exporter": "python",
   "pygments_lexer": "ipython2",
   "version": "2.7.12"
  }
 },
 "nbformat": 4,
 "nbformat_minor": 1
}
